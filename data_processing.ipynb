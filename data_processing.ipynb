{
 "cells": [
  {
   "cell_type": "code",
   "execution_count": 1,
   "metadata": {},
   "outputs": [],
   "source": [
    "import os\n",
    "import cv2"
   ]
  },
  {
   "cell_type": "code",
   "execution_count": 2,
   "metadata": {},
   "outputs": [],
   "source": [
    "train_dict={}\n",
    "\n",
    "for i in range(21):\n",
    "    train_dict[i]=0\n",
    "    for _,_,files in os.walk(f'data/{i}'):\n",
    "        for file in files:\n",
    "            train_dict[i]+=1"
   ]
  },
  {
   "cell_type": "code",
   "execution_count": 3,
   "metadata": {},
   "outputs": [
    {
     "data": {
      "text/plain": [
       "{0: 0,\n",
       " 1: 0,\n",
       " 2: 0,\n",
       " 3: 0,\n",
       " 4: 0,\n",
       " 5: 0,\n",
       " 6: 0,\n",
       " 7: 0,\n",
       " 8: 0,\n",
       " 9: 0,\n",
       " 10: 0,\n",
       " 11: 0,\n",
       " 12: 0,\n",
       " 13: 0,\n",
       " 14: 0,\n",
       " 15: 0,\n",
       " 16: 0,\n",
       " 17: 0,\n",
       " 18: 0,\n",
       " 19: 0,\n",
       " 20: 0}"
      ]
     },
     "execution_count": 3,
     "metadata": {},
     "output_type": "execute_result"
    }
   ],
   "source": [
    "train_dict"
   ]
  },
  {
   "cell_type": "code",
   "execution_count": 8,
   "metadata": {},
   "outputs": [],
   "source": [
    "train_dict={}\n",
    "\n",
    "for i in range(21):\n",
    "    train_dict[i]=0\n",
    "    for _,_,files in os.walk(f'data2/train/{i}'):\n",
    "        for file in files:\n",
    "            train_dict[i]+=1\n",
    "\n",
    "val_dict={}\n",
    "\n",
    "for i in range(21):\n",
    "    val_dict[i]=0\n",
    "    for _,_,files in os.walk(f'data2/val/{i}'):\n",
    "        for file in files:\n",
    "            val_dict[i]+=1\n",
    "\n"
   ]
  },
  {
   "cell_type": "code",
   "execution_count": 9,
   "metadata": {},
   "outputs": [
    {
     "name": "stdout",
     "output_type": "stream",
     "text": [
      "{0: 99501, 1: 67112, 2: 8688, 3: 9456, 4: 5513, 5: 12575, 6: 7809, 7: 3725, 8: 7027, 9: 6375, 10: 4784, 11: 4887, 12: 24813, 13: 7057, 14: 6598, 15: 3445, 16: 16974, 17: 5286, 18: 6194, 19: 9589, 20: 8537}\n",
      "{0: 500, 1: 500, 2: 500, 3: 500, 4: 500, 5: 500, 6: 500, 7: 500, 8: 500, 9: 500, 10: 500, 11: 500, 12: 500, 13: 500, 14: 500, 15: 500, 16: 500, 17: 500, 18: 500, 19: 500, 20: 507}\n"
     ]
    }
   ],
   "source": [
    "print(train_dict)\n",
    "print(val_dict)"
   ]
  },
  {
   "cell_type": "code",
   "execution_count": 11,
   "metadata": {},
   "outputs": [
    {
     "data": {
      "text/plain": [
       "760"
      ]
     },
     "execution_count": 11,
     "metadata": {},
     "output_type": "execute_result"
    }
   ],
   "source": [
    "min(val_dict.values())"
   ]
  },
  {
   "cell_type": "code",
   "execution_count": 4,
   "metadata": {},
   "outputs": [],
   "source": [
    "sum=0\n",
    "for i in range(1,21):\n",
    "    sum+=train_dict[i]"
   ]
  },
  {
   "cell_type": "code",
   "execution_count": 5,
   "metadata": {},
   "outputs": [
    {
     "data": {
      "text/plain": [
       "181926"
      ]
     },
     "execution_count": 5,
     "metadata": {},
     "output_type": "execute_result"
    }
   ],
   "source": [
    "sum"
   ]
  },
  {
   "cell_type": "code",
   "execution_count": 6,
   "metadata": {},
   "outputs": [
    {
     "name": "stdout",
     "output_type": "stream",
     "text": [
      "45458\n"
     ]
    }
   ],
   "source": [
    "sum=0\n",
    "for i in range(1,21):\n",
    "    sum+=val_dict[i]\n",
    "print(sum)"
   ]
  },
  {
   "cell_type": "code",
   "execution_count": 7,
   "metadata": {},
   "outputs": [
    {
     "data": {
      "text/plain": [
       "18946899"
      ]
     },
     "execution_count": 7,
     "metadata": {},
     "output_type": "execute_result"
    }
   ],
   "source": [
    "train_dict[0]"
   ]
  },
  {
   "cell_type": "code",
   "execution_count": 23,
   "metadata": {},
   "outputs": [],
   "source": [
    "for i in range(21):\n",
    "    if os.path.exists(f'data2/train/{i}') ==False:\n",
    "        os.makedirs(f'data2/train/{i}')\n",
    "\n",
    "    if os.path.exists(f'data2/val/{i}') ==False:\n",
    "        os.makedirs(f'data2/val/{i}')"
   ]
  },
  {
   "cell_type": "code",
   "execution_count": 25,
   "metadata": {},
   "outputs": [
    {
     "name": "stdout",
     "output_type": "stream",
     "text": [
      "0class will save 500 images\n",
      "1class will save 500 images\n",
      "2class will save 500 images\n",
      "3class will save 500 images\n",
      "4class will save 500 images\n",
      "5class will save 500 images\n",
      "6class will save 500 images\n",
      "7class will save 500 images\n",
      "8class will save 500 images\n",
      "9class will save 500 images\n",
      "10class will save 500 images\n",
      "11class will save 500 images\n",
      "12class will save 500 images\n",
      "13class will save 500 images\n",
      "14class will save 500 images\n",
      "15class will save 500 images\n",
      "16class will save 500 images\n",
      "17class will save 500 images\n",
      "18class will save 500 images\n",
      "19class will save 500 images\n",
      "20class will save 500 images\n"
     ]
    }
   ],
   "source": [
    "for i in range(21):\n",
    "    \n",
    "    limit=500\n",
    "    print(f'{i}class will save {limit} images')\n",
    "\n",
    "    count=0\n",
    "    for path,dirs,files in os.walk(f'data/{i}'):\n",
    "        for file in files:\n",
    "            img_path='data/'+str(i)+'/'+file\n",
    "            img=cv2.imread(img_path)\n",
    "            \n",
    "            cv2.imwrite(f'data2/val/{i}/{count}.jpg',img)\n",
    "            os.remove(img_path)\n",
    "            \n",
    "            count+=1\n",
    "            if count==limit:\n",
    "                break\n",
    "\n",
    "\n",
    "            \n"
   ]
  },
  {
   "cell_type": "code",
   "execution_count": 18,
   "metadata": {},
   "outputs": [
    {
     "name": "stdout",
     "output_type": "stream",
     "text": [
      "0class will save 4736748 images\n"
     ]
    }
   ],
   "source": [
    "for i in range(1):\n",
    "    limit=val_dict[i]\n",
    "    print(f'{i}class will save {limit} images')\n",
    "    count=0\n",
    "\n",
    "    for path,dirs,files in os.walk(f'mother_data/val/{i}'):\n",
    "        for file in files:\n",
    "            \n",
    "            # print(f'data/train/{i}/'+file)\n",
    "            img_path='mother_data/val/'+str(i)+'/'+file\n",
    "            img=cv2.imread(img_path)\n",
    "\n",
    "            if count<500:\n",
    "                cv2.imwrite(f'data5/val/{i}/{count}.jpg',img)\n",
    "                count+=1\n",
    "\n",
    "            else:\n",
    "                break\n",
    "            #     cv2.imwrite(f'data5/train/{i}/{count}.jpg',img)\n",
    "            #     count+=1\n",
    "            \n",
    "            # if count==limit-1:\n",
    "            #     break\n",
    "\n",
    "           "
   ]
  },
  {
   "attachments": {},
   "cell_type": "markdown",
   "metadata": {},
   "source": [
    "# background data의 양을 전체 클래스 데이터의 합보다 3배 많게 설정"
   ]
  },
  {
   "cell_type": "code",
   "execution_count": 7,
   "metadata": {},
   "outputs": [],
   "source": [
    "count=0\n",
    "\n",
    "for path,dirs,files in os.walk(f'mother_data/train/0'):\n",
    "    for file in files[::3]:\n",
    "        img_path='mother_data/train/0/'+file\n",
    "        img=cv2.imread(img_path)\n",
    "        \n",
    "        cv2.imwrite(f'data4/train/0/{count}.jpg',img)\n",
    "        count+=1\n",
    "        if count==180000:\n",
    "            break\n",
    "count=0\n",
    "for path,dirs,files in os.walk(f'mother_data/val/0'):\n",
    "    for file in files[::2]:\n",
    "        img_path='mother_data/val/0/'+file\n",
    "        img=cv2.imread(img_path)\n",
    "        \n",
    "        cv2.imwrite(f'data4/val/0/{count}.jpg',img)\n",
    "        count+=1\n",
    "        if count==45000:\n",
    "            break\n"
   ]
  },
  {
   "cell_type": "code",
   "execution_count": null,
   "metadata": {},
   "outputs": [],
   "source": []
  }
 ],
 "metadata": {
  "kernelspec": {
   "display_name": "joowan",
   "language": "python",
   "name": "python3"
  },
  "language_info": {
   "codemirror_mode": {
    "name": "ipython",
    "version": 3
   },
   "file_extension": ".py",
   "mimetype": "text/x-python",
   "name": "python",
   "nbconvert_exporter": "python",
   "pygments_lexer": "ipython3",
   "version": "3.7.15"
  },
  "orig_nbformat": 4,
  "vscode": {
   "interpreter": {
    "hash": "3b94245a966602fa1d3337cb3b1178b7109c129cd4eabde98685205c86aedb4a"
   }
  }
 },
 "nbformat": 4,
 "nbformat_minor": 2
}
